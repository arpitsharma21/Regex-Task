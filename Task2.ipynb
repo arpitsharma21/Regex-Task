{
 "cells": [
  {
   "cell_type": "markdown",
   "metadata": {},
   "source": [
    "# Task 2\n",
    "# Referral ID: SIRSS2150\n",
    "# Name : Arpit Sharma¶"
   ]
  },
  {
   "cell_type": "markdown",
   "metadata": {},
   "source": [
    "# 1. Write a lambda expression to extract first word of a string."
   ]
  },
  {
   "cell_type": "code",
   "execution_count": 1,
   "metadata": {},
   "outputs": [
    {
     "name": "stdout",
     "output_type": "stream",
     "text": [
      "Hello all\n"
     ]
    },
    {
     "data": {
      "text/plain": [
       "'Hello'"
      ]
     },
     "execution_count": 1,
     "metadata": {},
     "output_type": "execute_result"
    }
   ],
   "source": [
    "s = input()\n",
    "a = lambda s: s.split()[0]\n",
    "a(s)"
   ]
  },
  {
   "cell_type": "markdown",
   "metadata": {},
   "source": [
    "# 2. Write a function to extract first word of s string (with many words separated by space)."
   ]
  },
  {
   "cell_type": "code",
   "execution_count": 2,
   "metadata": {},
   "outputs": [],
   "source": [
    "def extract_words(s):\n",
    "    return s.split()[0]"
   ]
  },
  {
   "cell_type": "code",
   "execution_count": 3,
   "metadata": {},
   "outputs": [
    {
     "name": "stdout",
     "output_type": "stream",
     "text": [
      "Hi I am Arpit Sharma\n"
     ]
    },
    {
     "data": {
      "text/plain": [
       "'Hi'"
      ]
     },
     "execution_count": 3,
     "metadata": {},
     "output_type": "execute_result"
    }
   ],
   "source": [
    "s = input()\n",
    "a = extract_words(s)\n",
    "a"
   ]
  },
  {
   "cell_type": "markdown",
   "metadata": {},
   "source": [
    "# 3. Extract the first word from every string from a list of strings by using map function."
   ]
  },
  {
   "cell_type": "code",
   "execution_count": 4,
   "metadata": {},
   "outputs": [],
   "source": [
    "l = ['Tension Lene Ka Nahi Dene ka', 'Achha hai, bahut achha hai.', 'Dye karne ki umar mein ladai karne nikle hai']"
   ]
  },
  {
   "cell_type": "code",
   "execution_count": 5,
   "metadata": {},
   "outputs": [
    {
     "data": {
      "text/plain": [
       "['Tension', 'Achha', 'Dye']"
      ]
     },
     "execution_count": 5,
     "metadata": {},
     "output_type": "execute_result"
    }
   ],
   "source": [
    "list(map(extract_words,l))"
   ]
  },
  {
   "cell_type": "markdown",
   "metadata": {},
   "source": [
    "# 4. Write a function to return a list of prime factors of a given number."
   ]
  },
  {
   "cell_type": "code",
   "execution_count": 6,
   "metadata": {},
   "outputs": [],
   "source": [
    "def Prime_Factor(num):\n",
    "    # list use to collect all prime factor of given number.\n",
    "    lst = [1,]\n",
    "    \n",
    "    # 2 prime factor\n",
    "    while num % 2 == 0:\n",
    "        lst.append(2)\n",
    "        num = num / 2\n",
    "    \n",
    "    # more than 2 prime factor\n",
    "    for i in range(3, int(n**0.5)+1, 2):\n",
    "          \n",
    "        while num % i == 0:\n",
    "            lst.append(i)\n",
    "            num = num / i \n",
    "    \n",
    "    # for prime number\n",
    "    if num > 2:\n",
    "        lst.append(int(num))\n",
    "    print(lst)\n"
   ]
  },
  {
   "cell_type": "code",
   "execution_count": 7,
   "metadata": {},
   "outputs": [
    {
     "name": "stdout",
     "output_type": "stream",
     "text": [
      "Enter numbers: 12\n",
      "[1, 2, 2, 3]\n"
     ]
    }
   ],
   "source": [
    "n = int(input('Enter numbers: '))\n",
    "Prime_Factor(n)"
   ]
  },
  {
   "cell_type": "markdown",
   "metadata": {},
   "source": [
    "# 5. Write a function that finds 2nd largest among 4 numbers (Repetitions are allowed, without sorting)"
   ]
  },
  {
   "cell_type": "code",
   "execution_count": 8,
   "metadata": {},
   "outputs": [],
   "source": [
    "def second_largest(*n):\n",
    "#     Converting variable number of arguments into list\n",
    "    l = list(n)\n",
    "    \n",
    "#     Finding the maximum of list\n",
    "    mx = max(l)\n",
    "    \n",
    "    for i in l:\n",
    "#         If we remove the maximum element from list then the second max element can be easily found\n",
    "        if i == mx:\n",
    "            l.remove(i)\n",
    "#     Then finding the maximum element in list i.e second maximum        \n",
    "    m = max(l)\n",
    "    return m"
   ]
  },
  {
   "cell_type": "code",
   "execution_count": 9,
   "metadata": {},
   "outputs": [
    {
     "data": {
      "text/plain": [
       "5"
      ]
     },
     "execution_count": 9,
     "metadata": {},
     "output_type": "execute_result"
    }
   ],
   "source": [
    "second_largest(3,5,2,7,0)"
   ]
  },
  {
   "cell_type": "code",
   "execution_count": null,
   "metadata": {},
   "outputs": [],
   "source": []
  }
 ],
 "metadata": {
  "kernelspec": {
   "display_name": "Python 3",
   "language": "python",
   "name": "python3"
  },
  "language_info": {
   "codemirror_mode": {
    "name": "ipython",
    "version": 3
   },
   "file_extension": ".py",
   "mimetype": "text/x-python",
   "name": "python",
   "nbconvert_exporter": "python",
   "pygments_lexer": "ipython3",
   "version": "3.7.6"
  }
 },
 "nbformat": 4,
 "nbformat_minor": 4
}
