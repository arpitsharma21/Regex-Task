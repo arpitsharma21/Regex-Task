{
 "cells": [
  {
   "cell_type": "markdown",
   "metadata": {},
   "source": [
    "# Task 3\n",
    "# Referral ID: SIRSS2150\n",
    "# Name : Arpit Sharma"
   ]
  },
  {
   "cell_type": "markdown",
   "metadata": {},
   "source": [
    "# 1. Write a function to return nth term of Fibonacci sequence."
   ]
  },
  {
   "cell_type": "code",
   "execution_count": 1,
   "metadata": {},
   "outputs": [
    {
     "name": "stdout",
     "output_type": "stream",
     "text": [
      "enter a positive no. :5\n",
      "0 1 1 2 3 "
     ]
    }
   ],
   "source": [
    "def fibonacci(n):\n",
    "    a=0\n",
    "    b=1\n",
    "    if n < 0:\n",
    "        print(\"Invalid No.\")\n",
    "    elif n == 0:\n",
    "        print(\"0\")\n",
    "    elif n == 1 :\n",
    "        print('1')\n",
    "    else:\n",
    "        print(a,b, end=\" \")\n",
    "        for i in range(n-2):\n",
    "            c = a+b\n",
    "            print(c,end=\" \")\n",
    "            a=b\n",
    "            b=c\n",
    "            \n",
    "n = int(input(\"enter a positive no. :\"))\n",
    "fibonacci(n)"
   ]
  },
  {
   "cell_type": "markdown",
   "metadata": {},
   "source": [
    "# 2. Write a function to find out GCD of two numbers using EUCLID'S algorithm"
   ]
  },
  {
   "cell_type": "code",
   "execution_count": 2,
   "metadata": {},
   "outputs": [
    {
     "name": "stdout",
     "output_type": "stream",
     "text": [
      "Enter 1st no. :4\n",
      "enter 2nd No :6\n",
      "GCD of two no. is:  2\n"
     ]
    }
   ],
   "source": [
    "def gcd(n1,n2):\n",
    "    if n1 < n2 :\n",
    "        n1,n2 = n2,n1\n",
    "    while n1 % n2 !=0 :\n",
    "        n1,n2 = n2,n1%n2\n",
    "    print(\"GCD of two no. is: \",n2)\n",
    "\n",
    "n1= int(input(\"Enter 1st no. :\"))\n",
    "n2= int(input(\"enter 2nd No :\"))\n",
    "gcd(n1,n2)"
   ]
  },
  {
   "cell_type": "markdown",
   "metadata": {},
   "source": [
    "# 3. Write a function to find LCM of two number in most optimizers way.\n"
   ]
  },
  {
   "cell_type": "code",
   "execution_count": 3,
   "metadata": {},
   "outputs": [
    {
     "name": "stdout",
     "output_type": "stream",
     "text": [
      "Enter first number:24\n",
      "Enter second number:54\n",
      "216\n"
     ]
    }
   ],
   "source": [
    "\n",
    "def LCM(num1,num2):\n",
    "    \n",
    "    # this list contain all common divisor of num1 and num2 numbers.\n",
    "    common_divisor_list = []\n",
    "    \n",
    "    for i in range(1,num1):\n",
    "        for j in range(1,num2):\n",
    "            if (num1//i and num1%i==0 and num2//j and num2%j==0):\n",
    "                if i == j:\n",
    "                    common_divisor_list.append(i)\n",
    "                    \n",
    "    # lcm means least common multiple of integers num1 and num2 numbers.\n",
    "    # according to formula lcm(a,b) = absolute(a*b) / gcd (a,b)\n",
    "    GCD = common_divisor_list[-1]\n",
    "    LCM = abs(num1*num2)//GCD\n",
    "    return LCM\n",
    "\n",
    "num1 = int(input('Enter first number:'))\n",
    "num2 = int(input('Enter second number:'))\n",
    "print(LCM(num1,num2))"
   ]
  },
  {
   "cell_type": "code",
   "execution_count": null,
   "metadata": {},
   "outputs": [],
   "source": []
  }
 ],
 "metadata": {
  "kernelspec": {
   "display_name": "Python 3",
   "language": "python",
   "name": "python3"
  },
  "language_info": {
   "codemirror_mode": {
    "name": "ipython",
    "version": 3
   },
   "file_extension": ".py",
   "mimetype": "text/x-python",
   "name": "python",
   "nbconvert_exporter": "python",
   "pygments_lexer": "ipython3",
   "version": "3.7.6"
  }
 },
 "nbformat": 4,
 "nbformat_minor": 4
}
