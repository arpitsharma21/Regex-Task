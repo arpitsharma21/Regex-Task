{
 "cells": [
  {
   "cell_type": "markdown",
   "metadata": {},
   "source": [
    "# Task 4\n",
    "# Referral ID: SIRSS2150\n",
    "# Name : Arpit Sharma"
   ]
  },
  {
   "cell_type": "markdown",
   "metadata": {},
   "source": [
    " 1. Given a list of integers, write a function to return the sum of all prime numbers in that list."
   ]
  },
  {
   "cell_type": "code",
   "execution_count": 1,
   "metadata": {},
   "outputs": [],
   "source": [
    "def prime_sum(lst):\n",
    "    sum_list =[]\n",
    "    for i in lst:\n",
    "        if i > 1:\n",
    "            for j in range(2,i-1):\n",
    "                if i % j == 0:\n",
    "                    break\n",
    "            else:\n",
    "                sum_list.append(i)\n",
    "    return sum(sum_list)"
   ]
  },
  {
   "cell_type": "code",
   "execution_count": 2,
   "metadata": {},
   "outputs": [
    {
     "name": "stdout",
     "output_type": "stream",
     "text": [
      "Enter no. of elements in list: 4\n",
      "1 3 5 7\n",
      "Sum of Prime No. in list:  15\n"
     ]
    }
   ],
   "source": [
    "n = int(input(\"Enter no. of elements in list: \"))\n",
    "lst = list(map(int,input().split()))\n",
    "print(\"Sum of Prime No. in list: \",prime_sum(lst))"
   ]
  },
  {
   "cell_type": "markdown",
   "metadata": {},
   "source": [
    " 2.Given a list of integers, write a function to check whether the list is strictly increasing or \n",
    "not."
   ]
  },
  {
   "cell_type": "code",
   "execution_count": 3,
   "metadata": {},
   "outputs": [],
   "source": [
    "def check(list_1):\n",
    "    for i in range(len(list_1)-1):\n",
    "        if list_1[i]>list_1[i+1]:\n",
    "            print(\"The list is not strictly increasing.\")\n",
    "            break\n",
    "    else:\n",
    "            print(\"This list is strictly increasing.\")"
   ]
  },
  {
   "cell_type": "code",
   "execution_count": 4,
   "metadata": {},
   "outputs": [
    {
     "name": "stdout",
     "output_type": "stream",
     "text": [
      "The list is not strictly increasing.\n"
     ]
    }
   ],
   "source": [
    "lst1 = [5,6,7,8,9,1,11,13]\n",
    "check(lst1)"
   ]
  },
  {
   "cell_type": "markdown",
   "metadata": {},
   "source": [
    "3.Write a function to check whether a given list is expanding or not (the difference between adjacent elements should keep on increasing)."
   ]
  },
  {
   "cell_type": "code",
   "execution_count": 5,
   "metadata": {},
   "outputs": [],
   "source": [
    "def expanding(list_1):\n",
    "    for i in range(1,len(list_1)-1):\n",
    "        if (list_1[i]-list_1[i-1]>=list_1[i+1]-list_1[i]):\n",
    "          print(\"The list is not expanding.\")\n",
    "          break\n",
    "        else:\n",
    "            print(\"The list is expanding.\")"
   ]
  },
  {
   "cell_type": "code",
   "execution_count": 6,
   "metadata": {},
   "outputs": [
    {
     "name": "stdout",
     "output_type": "stream",
     "text": [
      "The list is not expanding.\n"
     ]
    }
   ],
   "source": [
    "lst1 = [1,5,8,10,30]\n",
    "expanding(lst1)"
   ]
  },
  {
   "cell_type": "markdown",
   "metadata": {},
   "source": [
    "4.Write a function to calculate all permutations of a given string. (Without using itertools)"
   ]
  },
  {
   "cell_type": "code",
   "execution_count": 7,
   "metadata": {},
   "outputs": [],
   "source": [
    "def permute_string(str1,l,r):\n",
    "    if l==r:\n",
    "        print(\"\".join(str1))\n",
    "    else:\n",
    "        for i in range(l,r+1):\n",
    "          str1[l],str1[i]=str1[i],str1[l]\n",
    "          permute_string(str1,l+1,r)\n",
    "          str1[l],str1[i]=str1[i],str1[l]\n",
    "    "
   ]
  },
  {
   "cell_type": "code",
   "execution_count": 8,
   "metadata": {},
   "outputs": [
    {
     "name": "stdout",
     "output_type": "stream",
     "text": [
      "Enter a string:abcd\n",
      "abcd\n",
      "abdc\n",
      "acbd\n",
      "acdb\n",
      "adcb\n",
      "adbc\n",
      "bacd\n",
      "badc\n",
      "bcad\n",
      "bcda\n",
      "bdca\n",
      "bdac\n",
      "cbad\n",
      "cbda\n",
      "cabd\n",
      "cadb\n",
      "cdab\n",
      "cdba\n",
      "dbca\n",
      "dbac\n",
      "dcba\n",
      "dcab\n",
      "dacb\n",
      "dabc\n"
     ]
    }
   ],
   "source": [
    "str1=input(\"Enter a string:\")\n",
    "str1=str1.lower()\n",
    "str1=list(str1)\n",
    "list1=[]\n",
    "permute_string(str1,0,len(str1)-1)"
   ]
  },
  {
   "cell_type": "code",
   "execution_count": null,
   "metadata": {},
   "outputs": [],
   "source": []
  }
 ],
 "metadata": {
  "kernelspec": {
   "display_name": "Python 3",
   "language": "python",
   "name": "python3"
  },
  "language_info": {
   "codemirror_mode": {
    "name": "ipython",
    "version": 3
   },
   "file_extension": ".py",
   "mimetype": "text/x-python",
   "name": "python",
   "nbconvert_exporter": "python",
   "pygments_lexer": "ipython3",
   "version": "3.7.6"
  }
 },
 "nbformat": 4,
 "nbformat_minor": 4
}
